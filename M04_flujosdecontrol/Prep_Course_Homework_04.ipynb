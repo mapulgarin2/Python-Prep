{
 "cells": [
  {
   "attachments": {},
   "cell_type": "markdown",
   "metadata": {},
   "source": [
    "## Flujos de Control"
   ]
  },
  {
   "attachments": {},
   "cell_type": "markdown",
   "metadata": {},
   "source": [
    "1) Crear una variable que contenga un elemento del conjunto de números enteros y luego imprimir por pantalla si es mayor o menor a cero"
   ]
  },
  {
   "cell_type": "code",
   "execution_count": 3,
   "metadata": {},
   "outputs": [
    {
     "name": "stdout",
     "output_type": "stream",
     "text": [
      "x es igual a cero\n"
     ]
    }
   ],
   "source": [
    "x = 0 \n",
    "if x > 0 :\n",
    "    print(\"x es mayor que cero\")\n",
    "elif x < 0 :\n",
    "    print(\"x es menor de cero\")\n",
    "else :\n",
    "    print(\"x es igual a cero\")"
   ]
  },
  {
   "attachments": {},
   "cell_type": "markdown",
   "metadata": {},
   "source": [
    "2) Crear dos variables y un condicional que informe si son del mismo tipo de dato"
   ]
  },
  {
   "cell_type": "code",
   "execution_count": 8,
   "metadata": {},
   "outputs": [
    {
     "name": "stdout",
     "output_type": "stream",
     "text": [
      "Las variables no son del mismo tipo\n"
     ]
    }
   ],
   "source": [
    "var = 10\n",
    "var1 = \"b\"\n",
    "if type(var) == type(var1):\n",
    "    print(\"La variables son del mismo tipo de dato\")\n",
    "else:\n",
    "    print(\"Las variables no son del mismo tipo de dato\")    "
   ]
  },
  {
   "attachments": {},
   "cell_type": "markdown",
   "metadata": {},
   "source": [
    "3) Para los valores enteros del 1 al 20, imprimir por pantalla si es par o impar"
   ]
  },
  {
   "cell_type": "code",
   "execution_count": 14,
   "metadata": {},
   "outputs": [
    {
     "name": "stdout",
     "output_type": "stream",
     "text": [
      "1 es impar\n",
      "2 es par\n",
      "3 es impar\n",
      "4 es par\n",
      "5 es impar\n",
      "6 es par\n",
      "7 es impar\n",
      "8 es par\n",
      "9 es impar\n",
      "10 es par\n",
      "11 es impar\n",
      "12 es par\n",
      "13 es impar\n",
      "14 es par\n",
      "15 es impar\n",
      "16 es par\n",
      "17 es impar\n",
      "18 es par\n",
      "19 es impar\n",
      "20 es par\n"
     ]
    }
   ],
   "source": [
    "for i in range(0,20):\n",
    "    x = i + 1\n",
    "    if x%2 == 0:\n",
    "        print(str(x) + \" es par\")\n",
    "    else :\n",
    "        print(str(x) + \" es impar\")\n",
    "            "
   ]
  },
  {
   "attachments": {},
   "cell_type": "markdown",
   "metadata": {},
   "source": [
    "4) En un ciclo for mostrar para los valores entre 0 y 5 el resultado de elevarlo a la potencia igual a 3"
   ]
  },
  {
   "cell_type": "code",
   "execution_count": 21,
   "metadata": {},
   "outputs": [
    {
     "name": "stdout",
     "output_type": "stream",
     "text": [
      "el cubo de 0 es igual a : 0\n",
      "el cubo de 1 es igual a : 1\n",
      "el cubo de 2 es igual a : 8\n",
      "el cubo de 3 es igual a : 27\n",
      "el cubo de 4 es igual a : 64\n",
      "el cubo de 5 es igual a : 125\n"
     ]
    }
   ],
   "source": [
    "for i in range (-1,5):\n",
    "    x = i +1\n",
    "    cubo = x**3\n",
    "    print(\"el cubo de \"+str(x)+ \" es igual a : \" + str(cubo))"
   ]
  },
  {
   "attachments": {},
   "cell_type": "markdown",
   "metadata": {},
   "source": [
    "5) Crear una variable que contenga un número entero y realizar un ciclo for la misma cantidad de ciclos"
   ]
  },
  {
   "cell_type": "code",
   "execution_count": 23,
   "metadata": {},
   "outputs": [
    {
     "name": "stdout",
     "output_type": "stream",
     "text": [
      "0\n",
      "1\n",
      "2\n",
      "3\n",
      "4\n",
      "5\n",
      "6\n",
      "7\n"
     ]
    }
   ],
   "source": [
    "y = 8\n",
    "for i in range(0,y):\n",
    "    pass#Que significa este pass cuando no hay ninguna accion.\n",
    "    print(i)"
   ]
  },
  {
   "attachments": {},
   "cell_type": "markdown",
   "metadata": {},
   "source": [
    "6) Utilizar un ciclo while para realizar el factorial de un número guardado en una variable, sólo si la variable contiene un número entero mayor a 0"
   ]
  },
  {
   "cell_type": "code",
   "execution_count": 26,
   "metadata": {},
   "outputs": [
    {
     "name": "stdout",
     "output_type": "stream",
     "text": [
      "El numero ingresado no es un entero mayor de cero\n"
     ]
    }
   ],
   "source": [
    "num =-5\n",
    "fact = 1\n",
    "if type(num)==int and num > 0:\n",
    "    while num > 0 :\n",
    "        fact =fact*num\n",
    "        num-=1\n",
    "    print(\"el factorial  es : \"+str(fact))\n",
    "else:\n",
    "    print(\"El numero ingresado no es un entero mayor de cero\")"
   ]
  },
  {
   "attachments": {},
   "cell_type": "markdown",
   "metadata": {},
   "source": [
    "7) Crear un ciclo for dentro de un ciclo while"
   ]
  },
  {
   "cell_type": "code",
   "execution_count": 31,
   "metadata": {},
   "outputs": [
    {
     "name": "stdout",
     "output_type": "stream",
     "text": [
      "El numero del ciclo es 10\n",
      "La iteracion es 0\n",
      "La iteracion es 1\n",
      "La iteracion es 2\n",
      "La iteracion es 3\n",
      "La iteracion es 4\n",
      "La iteracion es 5\n",
      "La iteracion es 6\n",
      "La iteracion es 7\n",
      "La iteracion es 8\n",
      "La iteracion es 9\n",
      "10\n",
      "El numero del ciclo es 9\n",
      "La iteracion es 0\n",
      "La iteracion es 1\n",
      "La iteracion es 2\n",
      "La iteracion es 3\n",
      "La iteracion es 4\n",
      "La iteracion es 5\n",
      "La iteracion es 6\n",
      "La iteracion es 7\n",
      "La iteracion es 8\n",
      "9\n",
      "El numero del ciclo es 8\n",
      "La iteracion es 0\n",
      "La iteracion es 1\n",
      "La iteracion es 2\n",
      "La iteracion es 3\n",
      "La iteracion es 4\n",
      "La iteracion es 5\n",
      "La iteracion es 6\n",
      "La iteracion es 7\n",
      "8\n",
      "El numero del ciclo es 7\n",
      "La iteracion es 0\n",
      "La iteracion es 1\n",
      "La iteracion es 2\n",
      "La iteracion es 3\n",
      "La iteracion es 4\n",
      "La iteracion es 5\n",
      "La iteracion es 6\n",
      "7\n",
      "El numero del ciclo es 6\n",
      "La iteracion es 0\n",
      "La iteracion es 1\n",
      "La iteracion es 2\n",
      "La iteracion es 3\n",
      "La iteracion es 4\n",
      "La iteracion es 5\n",
      "6\n",
      "El numero del ciclo es 5\n",
      "La iteracion es 0\n",
      "La iteracion es 1\n",
      "La iteracion es 2\n",
      "La iteracion es 3\n",
      "La iteracion es 4\n",
      "5\n",
      "El numero del ciclo es 4\n",
      "La iteracion es 0\n",
      "La iteracion es 1\n",
      "La iteracion es 2\n",
      "La iteracion es 3\n",
      "4\n",
      "El numero del ciclo es 3\n",
      "La iteracion es 0\n",
      "La iteracion es 1\n",
      "La iteracion es 2\n",
      "3\n",
      "El numero del ciclo es 2\n",
      "La iteracion es 0\n",
      "La iteracion es 1\n",
      "2\n",
      "El numero del ciclo es 1\n",
      "La iteracion es 0\n",
      "1\n"
     ]
    }
   ],
   "source": [
    "x = 10\n",
    "while x > 0 :\n",
    "    print(\"El numero del ciclo es \"+str(x))\n",
    "    for i in range(0,x):\n",
    "        print(\"La iteracion es \"+str(i))\n",
    "    print(x)\n",
    "    x-=1"
   ]
  },
  {
   "attachments": {},
   "cell_type": "markdown",
   "metadata": {},
   "source": [
    "8) Crear un ciclo while dentro de un ciclo for"
   ]
  },
  {
   "cell_type": "code",
   "execution_count": 64,
   "metadata": {},
   "outputs": [
    {
     "name": "stdout",
     "output_type": "stream",
     "text": [
      "Ciclo for numero 1\n",
      "EL numero del ciclo 4\n",
      "EL numero del ciclo 3\n",
      "EL numero del ciclo 2\n",
      "EL numero del ciclo 1\n",
      "Ciclo for numero 2\n",
      "EL numero del ciclo 4\n",
      "EL numero del ciclo 3\n",
      "EL numero del ciclo 2\n",
      "EL numero del ciclo 1\n",
      "Ciclo for numero 3\n",
      "EL numero del ciclo 4\n",
      "EL numero del ciclo 3\n",
      "EL numero del ciclo 2\n",
      "EL numero del ciclo 1\n"
     ]
    }
   ],
   "source": [
    "n= 4\n",
    "for i in range(1,n):    \n",
    "    print(\"Ciclo for numero \"+str(i))\n",
    "    z=n\n",
    "    while z > 0 :\n",
    "        print(\"EL numero del ciclo \" + str(z))\n",
    "        z-=1\n",
    "        \n",
    "        \n",
    "    \n",
    "        \n",
    "      \n"
   ]
  },
  {
   "attachments": {},
   "cell_type": "markdown",
   "metadata": {},
   "source": [
    "9) Imprimir los números primos existentes entre 0 y 30"
   ]
  },
  {
   "cell_type": "code",
   "execution_count": null,
   "metadata": {},
   "outputs": [],
   "source": [
    "n =3\n",
    "while n <= 30:\n",
    "    \n",
    "    if n == 2:\n",
    "        print(str(n) + \" es un numero primo\") \n",
    "    elif n%2 == 0 :\n",
    "        print( str(n) + \" no es un numero primo\")\n",
    "    else:\n",
    "        print( str(n) + \" es un numero primo\")    \n",
    "        \n",
    "n+=1    \n",
    "\n"
   ]
  },
  {
   "attachments": {},
   "cell_type": "markdown",
   "metadata": {},
   "source": [
    "10) ¿Se puede mejorar el proceso del punto 9? Utilizar las sentencias break y/ó continue para tal fin"
   ]
  },
  {
   "cell_type": "code",
   "execution_count": null,
   "metadata": {},
   "outputs": [],
   "source": []
  },
  {
   "attachments": {},
   "cell_type": "markdown",
   "metadata": {},
   "source": [
    "11) En los puntos 9 y 10, se diseño un código que encuentra números primos y además se lo optimizó. ¿Es posible saber en qué medida se optimizó?"
   ]
  },
  {
   "cell_type": "code",
   "execution_count": null,
   "metadata": {},
   "outputs": [],
   "source": []
  },
  {
   "attachments": {},
   "cell_type": "markdown",
   "metadata": {},
   "source": [
    "12) Si la cantidad de números que se evalúa es mayor a treinta, esa optimización crece?"
   ]
  },
  {
   "cell_type": "code",
   "execution_count": null,
   "metadata": {},
   "outputs": [],
   "source": []
  },
  {
   "attachments": {},
   "cell_type": "markdown",
   "metadata": {},
   "source": [
    "13) Aplicando continue, armar un ciclo while que solo imprima los valores divisibles por 12, dentro del rango de números de 100 a 300"
   ]
  },
  {
   "cell_type": "code",
   "execution_count": null,
   "metadata": {},
   "outputs": [],
   "source": []
  },
  {
   "attachments": {},
   "cell_type": "markdown",
   "metadata": {},
   "source": [
    "14) Utilizar la función **input()** que permite hacer ingresos por teclado, para encontrar números primos y dar la opción al usario de buscar el siguiente"
   ]
  },
  {
   "cell_type": "code",
   "execution_count": null,
   "metadata": {},
   "outputs": [],
   "source": []
  },
  {
   "attachments": {},
   "cell_type": "markdown",
   "metadata": {},
   "source": [
    "15) Crear un ciclo while que encuentre dentro del rango de 100 a 300 el primer número divisible por 3 y además múltiplo de 6"
   ]
  },
  {
   "cell_type": "code",
   "execution_count": null,
   "metadata": {},
   "outputs": [],
   "source": []
  }
 ],
 "metadata": {
  "interpreter": {
   "hash": "c85384e4cb51c8b72350f3a8712cc8351fdc3955e32a27f9b60c6242ab125f01"
  },
  "kernelspec": {
   "display_name": "Python 3 (ipykernel)",
   "language": "python",
   "name": "python3"
  },
  "language_info": {
   "codemirror_mode": {
    "name": "ipython",
    "version": 3
   },
   "file_extension": ".py",
   "mimetype": "text/x-python",
   "name": "python",
   "nbconvert_exporter": "python",
   "pygments_lexer": "ipython3",
   "version": "3.11.4"
  }
 },
 "nbformat": 4,
 "nbformat_minor": 4
}
